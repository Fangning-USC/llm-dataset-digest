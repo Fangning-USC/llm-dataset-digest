{
 "cells": [
  {
   "cell_type": "code",
   "execution_count": 1,
   "metadata": {},
   "outputs": [
    {
     "name": "stderr",
     "output_type": "stream",
     "text": [
      "c:\\Users\\fangning.zheng\\Documents\\weekly summary\\week05\\nlp-experiments-gists\\fangzhen\\langchain_streamlit_chatbot\\.venv\\Lib\\site-packages\\pinecone\\index.py:4: TqdmWarning: IProgress not found. Please update jupyter and ipywidgets. See https://ipywidgets.readthedocs.io/en/stable/user_install.html\n",
      "  from tqdm.autonotebook import tqdm\n"
     ]
    }
   ],
   "source": [
    "import os\n",
    "import streamlit as st\n",
    "import pinecone\n",
    "import json\n",
    "from pprint import pprint\n",
    "from pathlib import Path\n",
    "from langchain.text_splitter import RecursiveCharacterTextSplitter\n",
    "import tiktoken\n",
    "from uuid import uuid4\n",
    "from streamlit_chat import message\n",
    "from streamlit_extras.colored_header import colored_header\n",
    "from streamlit_extras.add_vertical_space import add_vertical_space\n",
    "from langchain.chat_models import ChatOpenAI\n",
    "from langchain_streamlit_chatbot.generate_vectorstore import generate_vectorstore\n",
    "from langchain.chat_models import ChatOpenAI   \n",
    "from langchain.chains import ConversationalRetrievalChain   \n",
    "from langchain.embeddings.openai import OpenAIEmbeddings\n",
    "from langchain.vectorstores import Pinecone\n"
   ]
  },
  {
   "cell_type": "code",
   "execution_count": 31,
   "metadata": {},
   "outputs": [
    {
     "name": "stdout",
     "output_type": "stream",
     "text": [
      "C:\\Users\\fangning.zheng\\Documents\\weekly summary\\week05\\nlp-experiments-gists\\fangzhen\\langchain_streamlit_chatbot\\src\\langchain_streamlit_chatbot\\data_ppt\\4COffshore_MarketOverviewReport_2021_Q1\n",
      "C:\\Users\\fangning.zheng\\Documents\\weekly summary\\week05\\nlp-experiments-gists\\fangzhen\\langchain_streamlit_chatbot\\src\\langchain_streamlit_chatbot\\data_ppt\\4COffshore_MarketOverviewReport_2021_Q2\n",
      "C:\\Users\\fangning.zheng\\Documents\\weekly summary\\week05\\nlp-experiments-gists\\fangzhen\\langchain_streamlit_chatbot\\src\\langchain_streamlit_chatbot\\data_ppt\\4COffshore_MarketOverviewReport_2021_Q3\n",
      "C:\\Users\\fangning.zheng\\Documents\\weekly summary\\week05\\nlp-experiments-gists\\fangzhen\\langchain_streamlit_chatbot\\src\\langchain_streamlit_chatbot\\data_ppt\\4COffshore_MarketOverviewReport_2021_Q4\n",
      "C:\\Users\\fangning.zheng\\Documents\\weekly summary\\week05\\nlp-experiments-gists\\fangzhen\\langchain_streamlit_chatbot\\src\\langchain_streamlit_chatbot\\data_ppt\\4COffshore_MarketOverviewReport_2022_Q1\n",
      "C:\\Users\\fangning.zheng\\Documents\\weekly summary\\week05\\nlp-experiments-gists\\fangzhen\\langchain_streamlit_chatbot\\src\\langchain_streamlit_chatbot\\data_ppt\\4COffshore_MarketOverviewReport_2022_Q2\n",
      "C:\\Users\\fangning.zheng\\Documents\\weekly summary\\week05\\nlp-experiments-gists\\fangzhen\\langchain_streamlit_chatbot\\src\\langchain_streamlit_chatbot\\data_ppt\\4COffshore_MarketOverviewReport_2022_Q3\n",
      "C:\\Users\\fangning.zheng\\Documents\\weekly summary\\week05\\nlp-experiments-gists\\fangzhen\\langchain_streamlit_chatbot\\src\\langchain_streamlit_chatbot\\data_ppt\\4COffshore_MarketOverviewReport_2022_Q4\n",
      "C:\\Users\\fangning.zheng\\Documents\\weekly summary\\week05\\nlp-experiments-gists\\fangzhen\\langchain_streamlit_chatbot\\src\\langchain_streamlit_chatbot\\data_ppt\\4COffshore_MarketOverviewReport_2023_Q1\n",
      "C:\\Users\\fangning.zheng\\Documents\\weekly summary\\week05\\nlp-experiments-gists\\fangzhen\\langchain_streamlit_chatbot\\src\\langchain_streamlit_chatbot\\data_ppt\\4COffshore_MarketOverviewReport_2023_Q2\n"
     ]
    }
   ],
   "source": [
    "# load json files and store into one list\n",
    "data = []\n",
    "for i in range(4):\n",
    "    for j in range(5):\n",
    "        folder_name = r\"\"\"\\4COffshore_MarketOverviewReport_202\"\"\"+str(i)+\"_Q\"+str(j)\n",
    "        data_path = r\"\"\"C:\\Users\\fangning.zheng\\Documents\\weekly summary\\week05\\nlp-experiments-gists\\fangzhen\\langchain_streamlit_chatbot\\src\\langchain_streamlit_chatbot\\data_ppt\"\"\"+folder_name\n",
    "        if os.path.exists(data_path):\n",
    "            print(data_path)\n",
    "            os.chdir(data_path)\n",
    "            files = [f for f in os.listdir('.') if os.path.isfile(f)]\n",
    "            \n",
    "            for file in files:\n",
    "                data.append(json.loads(Path(file).read_text()))"
   ]
  },
  {
   "cell_type": "code",
   "execution_count": 32,
   "metadata": {},
   "outputs": [
    {
     "name": "stdout",
     "output_type": "stream",
     "text": [
      "{'doc_name': '4COffshore_MarketOverviewReport_2023_Q2',\n",
      " 'doc_quarter': '2',\n",
      " 'doc_year': '2023',\n",
      " 'page': '61',\n",
      " 'text': 'Get in touch\\n'\n",
      "         'Contact us should you have any comments on the content of this '\n",
      "         'report, or suggestions for future content.\\n'\n",
      "         'The team at 4C is always happy to help.\\n'\n",
      "         '\\n'\n",
      "         'Orbis Energy Centre, Wilde Street, Lowestoft, NR32 1XH\\n'\n",
      "         'Tel +44 (0)1502 307037    Email info@4coffshore.com    Web '\n",
      "         'www.4coffshore.com\\n'\n",
      "         '\\n',\n",
      " 'text_type': 'text'}\n"
     ]
    }
   ],
   "source": [
    "# print the first dict\n",
    "pprint(data[-1])"
   ]
  },
  {
   "cell_type": "markdown",
   "metadata": {},
   "source": [
    "# compile a new indexing using Pinecone"
   ]
  },
  {
   "cell_type": "code",
   "execution_count": 37,
   "metadata": {},
   "outputs": [],
   "source": [
    "# compile a new indexing\n",
    "index_name = 'langchain-retrieval-marketoverview'\n",
    "\n",
    "# find API key in console at app.pinecone.io\n",
    "PINECONE_API_KEY = st.secrets[\"pinecone_pass\"]\n",
    "# find ENV (cloud region) next to API key in console\n",
    "PINECONE_ENVIRONMENT = st.secrets[\"pinecone_environment\"]\n",
    "# OPENAI API Key\n",
    "OPENAI_API_KEY = st.secrets[\"openai_pass\"]\n",
    "\n",
    "# initiate pinecone vectore db\n",
    "pinecone.init(\n",
    "    api_key=PINECONE_API_KEY,\n",
    "    environment=PINECONE_ENVIRONMENT\n",
    ")\n",
    "\n",
    "if index_name not in pinecone.list_indexes():\n",
    "    # we create a new index\n",
    "    pinecone.create_index(\n",
    "        name=index_name,\n",
    "        metric='cosine',\n",
    "        dimension=1536  # 1536 dim of text-embedding-ada-002\n",
    "    )"
   ]
  },
  {
   "cell_type": "code",
   "execution_count": 38,
   "metadata": {},
   "outputs": [
    {
     "data": {
      "text/plain": [
       "{'dimension': 1536,\n",
       " 'index_fullness': 0.0,\n",
       " 'namespaces': {},\n",
       " 'total_vector_count': 0}"
      ]
     },
     "execution_count": 38,
     "metadata": {},
     "output_type": "execute_result"
    }
   ],
   "source": [
    "# check index status\n",
    "index = pinecone.Index(index_name)\n",
    "index.describe_index_stats()"
   ]
  },
  {
   "cell_type": "markdown",
   "metadata": {},
   "source": [
    "# Text chuncking, embedding, and indexing"
   ]
  },
  {
   "cell_type": "code",
   "execution_count": 35,
   "metadata": {},
   "outputs": [],
   "source": [
    "tiktoken.encoding_for_model('gpt-3.5-turbo')\n",
    "tokenizer = tiktoken.get_encoding('cl100k_base')\n",
    "\n",
    "# create the length function\n",
    "def tiktoken_len(text):\n",
    "    tokens = tokenizer.encode(\n",
    "        text,\n",
    "        disallowed_special=()\n",
    "    )\n",
    "    return len(tokens)\n",
    "\n",
    "# Compile text splitter\n",
    "text_splitter = RecursiveCharacterTextSplitter(\n",
    "    chunk_size=400,\n",
    "    chunk_overlap=20,\n",
    "    length_function=tiktoken_len,\n",
    "    separators=[\"\\n\\n\", \"\\n\", \" \", \"\"]\n",
    ")\n",
    "\n",
    "# compile embedding\n",
    "model_name = 'text-embedding-ada-002'\n",
    "\n",
    "embed = OpenAIEmbeddings(\n",
    "    model=model_name,\n",
    "    openai_api_key=OPENAI_API_KEY\n",
    ")"
   ]
  },
  {
   "cell_type": "code",
   "execution_count": null,
   "metadata": {},
   "outputs": [],
   "source": [
    "batch_limit = 100\n",
    "\n",
    "texts = []\n",
    "metadatas = []\n",
    "\n",
    "for i, record in enumerate(data):\n",
    "    # first get metadata fields for this record\n",
    "    metadata = {\n",
    "        'doc_name': record['doc_name'],\n",
    "        'doc_quarter': record['doc_quarter'],\n",
    "        'doc_year': record['doc_year'],\n",
    "        'page': record['page'],\n",
    "        'text_type': record['text_type']\n",
    "        }\n",
    "\n",
    "    # now we create chunks from the record text\n",
    "    record_texts = text_splitter.split_text(record['text'])\n",
    "    # create individual metadata dicts for each chunk\n",
    "    record_metadatas = [{\n",
    "        \"chunk\": j, \"text\": text, **metadata\n",
    "    } for j, text in enumerate(record_texts)]\n",
    "\n",
    "    # append these to current batches\n",
    "    texts.extend(record_texts)\n",
    "    #print(record_texts)\n",
    "    metadatas.extend(record_metadatas)\n",
    "    #print(record_metadatas)\n",
    "    \n",
    "    # if we have reached the batch_limit we can add texts\n",
    "    if len(texts) >= batch_limit:\n",
    "        ids = [str(uuid4()) for _ in range(len(texts))]\n",
    "        embeds = embed.embed_documents(texts)\n",
    "        index.upsert(vectors=zip(ids, embeds, metadatas))\n",
    "        texts = []\n",
    "        metadatas = []\n",
    "\n",
    "if len(texts) > 0:\n",
    "    ids = [str(uuid4()) for _ in range(len(texts))]\n",
    "    embeds = embed.embed_documents(texts)\n",
    "    index.upsert(vectors=zip(ids, embeds, metadatas))"
   ]
  }
 ],
 "metadata": {
  "kernelspec": {
   "display_name": ".venv",
   "language": "python",
   "name": "python3"
  },
  "language_info": {
   "codemirror_mode": {
    "name": "ipython",
    "version": 3
   },
   "file_extension": ".py",
   "mimetype": "text/x-python",
   "name": "python",
   "nbconvert_exporter": "python",
   "pygments_lexer": "ipython3",
   "version": "3.11.4"
  },
  "orig_nbformat": 4
 },
 "nbformat": 4,
 "nbformat_minor": 2
}
