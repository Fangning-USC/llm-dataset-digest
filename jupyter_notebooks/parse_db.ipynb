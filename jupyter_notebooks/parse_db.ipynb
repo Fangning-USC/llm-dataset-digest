{
 "cells": [
  {
   "cell_type": "markdown",
   "metadata": {},
   "source": [
    "# Router"
   ]
  },
  {
   "cell_type": "code",
   "execution_count": 53,
   "metadata": {},
   "outputs": [],
   "source": [
    "from langchain.chains.sql_database.base import SQLDatabaseChain\n",
    "from langchain import SQLDatabase\n",
    "\n",
    "import nest_asyncio\n",
    "nest_asyncio.apply()\n",
    "import logging\n",
    "import sys\n",
    "\n",
    "logging.basicConfig(stream=sys.stdout, level=logging.INFO)\n",
    "logging.getLogger().addHandler(logging.StreamHandler(stream=sys.stdout))\n",
    "from llama_index.indices.struct_store.sql_query import NLSQLTableQueryEngine\n",
    "from llama_index import (\n",
    "    SQLStructStoreIndex,\n",
    "    SQLDatabase\n",
    ")"
   ]
  },
  {
   "cell_type": "code",
   "execution_count": 49,
   "metadata": {},
   "outputs": [],
   "source": [
    "table_db = SQLDatabase.from_uri(\"sqlite:///C:/Users/fangning.zheng/Documents/weekly summary/week08/sqlite/notebooks/foresee.db\")\n",
    "\n",
    "sql_index = SQLStructStoreIndex.from_documents(\n",
    "    [],\n",
    "    sql_database=table_db,\n",
    "    table_name=\"auction\",\n",
    ")"
   ]
  },
  {
   "cell_type": "code",
   "execution_count": null,
   "metadata": {},
   "outputs": [],
   "source": [
    "db_chain.run(\"What is the nearest time of launch dates for Japan?\")"
   ]
  },
  {
   "cell_type": "code",
   "execution_count": null,
   "metadata": {},
   "outputs": [],
   "source": [
    "# Define Query Engines, Set as Tools\n",
    "sql_query_engine = sql_index.as_query_engine()\n",
    "vector_query_engines = [index.as_query_engine() for index in vector_indices]\n",
    "from llama_index.tools.query_engine import QueryEngineTool\n",
    "\n",
    "\n",
    "sql_tool = QueryEngineTool.from_defaults(\n",
    "    query_engine=sql_query_engine,\n",
    "    description=(\n",
    "        'Useful for translating a natural language query into a SQL query over a table'\n",
    "    )\n",
    ")\n",
    "vector_tools = []\n",
    "for city, query_engine in zip(auction, vector_query_engines):\n",
    "    vector_tool = QueryEngineTool.from_defaults(\n",
    "        query_engine=query_engine,\n",
    "        description=f'Useful for answering semantic questions about {auction}',\n",
    "    )\n",
    "    vector_tools.append(vector_tool)"
   ]
  },
  {
   "cell_type": "code",
   "execution_count": null,
   "metadata": {},
   "outputs": [],
   "source": [
    "db_chain = SQLDatabaseChain.from_llm(llm, db, verbose=True)"
   ]
  },
  {
   "cell_type": "code",
   "execution_count": 54,
   "metadata": {},
   "outputs": [],
   "source": [
    "sql_query_engine = NLSQLTableQueryEngine(\n",
    "    sql_database=db,\n",
    "    tables=[\"auction\"],\n",
    ")"
   ]
  }
 ],
 "metadata": {
  "kernelspec": {
   "display_name": ".venv",
   "language": "python",
   "name": "python3"
  },
  "language_info": {
   "codemirror_mode": {
    "name": "ipython",
    "version": 3
   },
   "file_extension": ".py",
   "mimetype": "text/x-python",
   "name": "python",
   "nbconvert_exporter": "python",
   "pygments_lexer": "ipython3",
   "version": "3.11.4"
  },
  "orig_nbformat": 4
 },
 "nbformat": 4,
 "nbformat_minor": 2
}
