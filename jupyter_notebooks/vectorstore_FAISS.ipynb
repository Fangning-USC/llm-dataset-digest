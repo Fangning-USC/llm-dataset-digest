{
 "cells": [
  {
   "cell_type": "code",
   "execution_count": 65,
   "metadata": {},
   "outputs": [],
   "source": [
    "import os\n",
    "import streamlit as st\n",
    "import json\n",
    "from pprint import pprint\n",
    "from pathlib import Path\n",
    "from langchain.text_splitter import RecursiveCharacterTextSplitter\n",
    "import tiktoken\n",
    "from uuid import uuid4\n",
    "from streamlit_chat import message\n",
    "from streamlit_extras.colored_header import colored_header\n",
    "from streamlit_extras.add_vertical_space import add_vertical_space\n",
    "from langchain_streamlit_chatbot.generate_vectorstore import generate_vectorstore  \n",
    "from langchain.embeddings.openai import OpenAIEmbeddings\n",
    "from langchain.vectorstores import FAISS\n",
    "\n",
    "from langchain.docstore.document import Document\n",
    "from langchain.document_loaders.base import BaseLoader\n",
    "from langchain.indexes import VectorstoreIndexCreator\n",
    "import glob"
   ]
  },
  {
   "cell_type": "code",
   "execution_count": null,
   "metadata": {},
   "outputs": [],
   "source": [
    "root_dir = r\"\"\"C:\\Users\\fangning.zheng\\Documents\\weekly summary\\week07\\data_ppt\"\"\"\n",
    "data = []\n",
    "for filename in glob.iglob(root_dir + '**/**', recursive=True):\n",
    "     try:\n",
    "          print(filename)\n",
    "          data.append(json.loads(Path(filename).read_text()))\n",
    "     except:\n",
    "          pass\n",
    "                "
   ]
  },
  {
   "cell_type": "code",
   "execution_count": null,
   "metadata": {},
   "outputs": [],
   "source": [
    "# load json files and store into one list\n",
    "data = []\n",
    "for i in range(1,4):\n",
    "    for j in range(1,5):\n",
    "        folder_name = r\"\"\"\\4COffshore_MarketOverviewReport_202\"\"\"+str(i)+\"_Q\"+str(j)\n",
    "        print(folder_name)\n",
    "        data_path = r\"\"\"C:\\Users\\fangning.zheng\\Documents\\weekly summary\\week07\\data_ppt\"\"\"+folder_name\n",
    "        if os.path.exists(data_path):\n",
    "            print(data_path)\n",
    "            os.chdir(data_path)\n",
    "            files = [f for f in os.listdir('.') if os.path.isfile(f)]\n",
    "            \n",
    "            for file in files:\n",
    "                data.append(json.loads(Path(file).read_text()))\n",
    "                #docs.append(Document(page_content=text, metadata=metadata))"
   ]
  },
  {
   "cell_type": "code",
   "execution_count": 91,
   "metadata": {},
   "outputs": [
    {
     "name": "stdout",
     "output_type": "stream",
     "text": [
      "{'doc_name': '4COffshore_MarketOverviewReport_2023_Q2',\n",
      " 'doc_quarter': '2',\n",
      " 'doc_year': '2023',\n",
      " 'page': '61',\n",
      " 'text': 'Get in touch\\n'\n",
      "         'Contact us should you have any comments on the content of this '\n",
      "         'report, or suggestions for future content.\\n'\n",
      "         'The team at 4C is always happy to help.\\n'\n",
      "         '\\n'\n",
      "         'Orbis Energy Centre, Wilde Street, Lowestoft, NR32 1XH\\n'\n",
      "         'Tel +44 (0)1502 307037    Email info@4coffshore.com    Web '\n",
      "         'www.4coffshore.com\\n'\n",
      "         '\\n',\n",
      " 'text_type': 'text'}\n"
     ]
    }
   ],
   "source": [
    "# print the first dict\n",
    "pprint(data[-1])"
   ]
  },
  {
   "cell_type": "markdown",
   "metadata": {},
   "source": [
    "# Text chunking, embedding, and indexing"
   ]
  },
  {
   "cell_type": "code",
   "execution_count": 60,
   "metadata": {},
   "outputs": [],
   "source": [
    "tiktoken.encoding_for_model('gpt-3.5-turbo')\n",
    "tokenizer = tiktoken.get_encoding('cl100k_base')\n",
    "\n",
    "# create the length function\n",
    "def tiktoken_len(text):\n",
    "    tokens = tokenizer.encode(\n",
    "        text,\n",
    "        disallowed_special=()\n",
    "    )\n",
    "    return len(tokens)\n",
    "\n",
    "# Compile text splitter\n",
    "text_splitter = RecursiveCharacterTextSplitter(\n",
    "    chunk_size=400,\n",
    "    chunk_overlap=20,\n",
    "    length_function=tiktoken_len,\n",
    "    separators=[\"\\n\\n\", \"\\n\", \" \", \"\"]\n",
    ")\n",
    "\n",
    "# compile embedding\n",
    "model_name = 'text-embedding-ada-002'\n",
    "OPENAI_API_KEY = st.secrets[\"openai_pass\"]\n",
    "\n",
    "embed = OpenAIEmbeddings(\n",
    "    model=model_name,\n",
    "    openai_api_key=OPENAI_API_KEY\n",
    ")"
   ]
  },
  {
   "cell_type": "code",
   "execution_count": 61,
   "metadata": {},
   "outputs": [],
   "source": [
    "docs = []\n",
    "for i, record in enumerate(data):\n",
    "    # first get metadata fields for this record\n",
    "    metadata = {\n",
    "        'doc_name': record['doc_name'],\n",
    "        'doc_quarter': record['doc_quarter'],\n",
    "        'doc_year': record['doc_year'],\n",
    "        'page': record['page'],\n",
    "        'text_type': record['text_type']\n",
    "        }\n",
    "\n",
    "    # now we create chunks from the record text\n",
    "    record_texts = text_splitter.split_text(record['text'])\n",
    "    # create individual metadata dicts for each chunk\n",
    "    record_metadatas = [{\n",
    "        \"chunk\": j, **metadata\n",
    "    } for j, text in enumerate(record_texts)]\n",
    "\n",
    "    #print(record_texts)\n",
    "    #print(record_metadatas)\n",
    "    \n",
    "    # append chunk\n",
    "    for record_text,record_metadata in zip(record_texts, record_metadatas):\n",
    "        #print(record_text,record_metadata)\n",
    "        docs.append(Document(page_content=record_text, metadata=record_metadata))\n"
   ]
  },
  {
   "cell_type": "code",
   "execution_count": null,
   "metadata": {},
   "outputs": [],
   "source": [
    "pprint(docs)"
   ]
  },
  {
   "cell_type": "code",
   "execution_count": 63,
   "metadata": {},
   "outputs": [],
   "source": [
    "vector_db = FAISS.from_documents(docs, embed)"
   ]
  },
  {
   "cell_type": "code",
   "execution_count": 64,
   "metadata": {},
   "outputs": [],
   "source": [
    "os.chdir(r\"\"\"C:\\Users\\fangning.zheng\\Documents\\weekly summary\\week05\\nlp-experiments-gists\\fangzhen\\langchain_streamlit_chatbot\\src\\langchain_streamlit_chatbot\\vector_store\"\"\")\n",
    "vector_db.save_local(\"foreseeGlobalMarket_index\")"
   ]
  },
  {
   "cell_type": "code",
   "execution_count": 57,
   "metadata": {},
   "outputs": [
    {
     "data": {
      "text/plain": [
       "<langchain.vectorstores.faiss.FAISS at 0x1d585b84cd0>"
      ]
     },
     "execution_count": 57,
     "metadata": {},
     "output_type": "execute_result"
    }
   ],
   "source": [
    "FAISS.load_local(\"foreseeGlobalMarket_index\", embed)"
   ]
  },
  {
   "cell_type": "code",
   "execution_count": null,
   "metadata": {},
   "outputs": [],
   "source": [
    "vector_db.docstore._dict"
   ]
  }
 ],
 "metadata": {
  "kernelspec": {
   "display_name": ".venv",
   "language": "python",
   "name": "python3"
  },
  "language_info": {
   "codemirror_mode": {
    "name": "ipython",
    "version": 3
   },
   "file_extension": ".py",
   "mimetype": "text/x-python",
   "name": "python",
   "nbconvert_exporter": "python",
   "pygments_lexer": "ipython3",
   "version": "3.11.4"
  },
  "orig_nbformat": 4
 },
 "nbformat": 4,
 "nbformat_minor": 2
}
